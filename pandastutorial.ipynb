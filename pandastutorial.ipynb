{
  "nbformat": 4,
  "nbformat_minor": 0,
  "metadata": {
    "colab": {
      "name": "pandastutorial.ipynb",
      "provenance": [],
      "collapsed_sections": [],
      "authorship_tag": "ABX9TyOR1VR8sSbbniVfw346xA/w",
      "include_colab_link": true
    },
    "kernelspec": {
      "name": "python3",
      "display_name": "Python 3"
    },
    "language_info": {
      "name": "python"
    }
  },
  "cells": [
    {
      "cell_type": "markdown",
      "metadata": {
        "id": "view-in-github",
        "colab_type": "text"
      },
      "source": [
        "<a href=\"https://colab.research.google.com/github/AKSHAY-AKKI009/Pandas-tutorial/blob/main/pandastutorial.ipynb\" target=\"_parent\"><img src=\"https://colab.research.google.com/assets/colab-badge.svg\" alt=\"Open In Colab\"/></a>"
      ]
    },
    {
      "cell_type": "code",
      "metadata": {
        "id": "jdPyVphXN5np"
      },
      "source": [
        "import pandas as pd"
      ],
      "execution_count": 1,
      "outputs": []
    },
    {
      "cell_type": "code",
      "metadata": {
        "colab": {
          "base_uri": "https://localhost:8080/"
        },
        "id": "1u0BgsT1OMl-",
        "outputId": "252306b3-f029-4624-8ff9-5a3d48a60a73"
      },
      "source": [
        "from google.colab import drive\n",
        "drive.mount('/content/gdrive')"
      ],
      "execution_count": 2,
      "outputs": [
        {
          "output_type": "stream",
          "text": [
            "Mounted at /content/gdrive\n"
          ],
          "name": "stdout"
        }
      ]
    },
    {
      "cell_type": "code",
      "metadata": {
        "id": "mKQqAjfdOgxn"
      },
      "source": [
        "DatasetBaseFolder = '/content/gdrive/MyDrive/Colab Notebooks/PandasTl/Datasets/'"
      ],
      "execution_count": 4,
      "outputs": []
    },
    {
      "cell_type": "code",
      "metadata": {
        "id": "bLHebDeOO1Da"
      },
      "source": [
        "movies_df = pd.read_csv(DatasetBaseFolder+\"IMDB-Movie-Data.csv\", index_col=\"Title\")"
      ],
      "execution_count": 5,
      "outputs": []
    },
    {
      "cell_type": "code",
      "metadata": {
        "colab": {
          "base_uri": "https://localhost:8080/",
          "height": 235
        },
        "id": "Rkb2oD2BO7f1",
        "outputId": "291b71a0-c98f-4458-c830-5e1eeea89906"
      },
      "source": [
        "movies_df.head(5)"
      ],
      "execution_count": 6,
      "outputs": [
        {
          "output_type": "execute_result",
          "data": {
            "text/html": [
              "<div>\n",
              "<style scoped>\n",
              "    .dataframe tbody tr th:only-of-type {\n",
              "        vertical-align: middle;\n",
              "    }\n",
              "\n",
              "    .dataframe tbody tr th {\n",
              "        vertical-align: top;\n",
              "    }\n",
              "\n",
              "    .dataframe thead th {\n",
              "        text-align: right;\n",
              "    }\n",
              "</style>\n",
              "<table border=\"1\" class=\"dataframe\">\n",
              "  <thead>\n",
              "    <tr style=\"text-align: right;\">\n",
              "      <th></th>\n",
              "      <th>Rank</th>\n",
              "      <th>Genre</th>\n",
              "      <th>Description</th>\n",
              "      <th>Director</th>\n",
              "      <th>Actors</th>\n",
              "      <th>Year</th>\n",
              "      <th>Runtime (Minutes)</th>\n",
              "      <th>Rating</th>\n",
              "      <th>Votes</th>\n",
              "      <th>Revenue (Millions)</th>\n",
              "      <th>Metascore</th>\n",
              "    </tr>\n",
              "    <tr>\n",
              "      <th>Title</th>\n",
              "      <th></th>\n",
              "      <th></th>\n",
              "      <th></th>\n",
              "      <th></th>\n",
              "      <th></th>\n",
              "      <th></th>\n",
              "      <th></th>\n",
              "      <th></th>\n",
              "      <th></th>\n",
              "      <th></th>\n",
              "      <th></th>\n",
              "    </tr>\n",
              "  </thead>\n",
              "  <tbody>\n",
              "    <tr>\n",
              "      <th>Guardians of the Galaxy</th>\n",
              "      <td>1</td>\n",
              "      <td>Action,Adventure,Sci-Fi</td>\n",
              "      <td>A group of intergalactic criminals are forced ...</td>\n",
              "      <td>James Gunn</td>\n",
              "      <td>Chris Pratt, Vin Diesel, Bradley Cooper, Zoe S...</td>\n",
              "      <td>2014</td>\n",
              "      <td>121</td>\n",
              "      <td>8.1</td>\n",
              "      <td>757074</td>\n",
              "      <td>333.13</td>\n",
              "      <td>76.0</td>\n",
              "    </tr>\n",
              "    <tr>\n",
              "      <th>Prometheus</th>\n",
              "      <td>2</td>\n",
              "      <td>Adventure,Mystery,Sci-Fi</td>\n",
              "      <td>Following clues to the origin of mankind, a te...</td>\n",
              "      <td>Ridley Scott</td>\n",
              "      <td>Noomi Rapace, Logan Marshall-Green, Michael Fa...</td>\n",
              "      <td>2012</td>\n",
              "      <td>124</td>\n",
              "      <td>7.0</td>\n",
              "      <td>485820</td>\n",
              "      <td>126.46</td>\n",
              "      <td>65.0</td>\n",
              "    </tr>\n",
              "    <tr>\n",
              "      <th>Split</th>\n",
              "      <td>3</td>\n",
              "      <td>Horror,Thriller</td>\n",
              "      <td>Three girls are kidnapped by a man with a diag...</td>\n",
              "      <td>M. Night Shyamalan</td>\n",
              "      <td>James McAvoy, Anya Taylor-Joy, Haley Lu Richar...</td>\n",
              "      <td>2016</td>\n",
              "      <td>117</td>\n",
              "      <td>7.3</td>\n",
              "      <td>157606</td>\n",
              "      <td>138.12</td>\n",
              "      <td>62.0</td>\n",
              "    </tr>\n",
              "    <tr>\n",
              "      <th>Sing</th>\n",
              "      <td>4</td>\n",
              "      <td>Animation,Comedy,Family</td>\n",
              "      <td>In a city of humanoid animals, a hustling thea...</td>\n",
              "      <td>Christophe Lourdelet</td>\n",
              "      <td>Matthew McConaughey,Reese Witherspoon, Seth Ma...</td>\n",
              "      <td>2016</td>\n",
              "      <td>108</td>\n",
              "      <td>7.2</td>\n",
              "      <td>60545</td>\n",
              "      <td>270.32</td>\n",
              "      <td>59.0</td>\n",
              "    </tr>\n",
              "    <tr>\n",
              "      <th>Suicide Squad</th>\n",
              "      <td>5</td>\n",
              "      <td>Action,Adventure,Fantasy</td>\n",
              "      <td>A secret government agency recruits some of th...</td>\n",
              "      <td>David Ayer</td>\n",
              "      <td>Will Smith, Jared Leto, Margot Robbie, Viola D...</td>\n",
              "      <td>2016</td>\n",
              "      <td>123</td>\n",
              "      <td>6.2</td>\n",
              "      <td>393727</td>\n",
              "      <td>325.02</td>\n",
              "      <td>40.0</td>\n",
              "    </tr>\n",
              "  </tbody>\n",
              "</table>\n",
              "</div>"
            ],
            "text/plain": [
              "                         Rank  ... Metascore\n",
              "Title                          ...          \n",
              "Guardians of the Galaxy     1  ...      76.0\n",
              "Prometheus                  2  ...      65.0\n",
              "Split                       3  ...      62.0\n",
              "Sing                        4  ...      59.0\n",
              "Suicide Squad               5  ...      40.0\n",
              "\n",
              "[5 rows x 11 columns]"
            ]
          },
          "metadata": {
            "tags": []
          },
          "execution_count": 6
        }
      ]
    },
    {
      "cell_type": "code",
      "metadata": {
        "colab": {
          "base_uri": "https://localhost:8080/",
          "height": 235
        },
        "id": "phju-vRWPCys",
        "outputId": "08c4b5f3-a312-4414-ded0-a5368d4e4c89"
      },
      "source": [
        "movies_df.tail(5)"
      ],
      "execution_count": 7,
      "outputs": [
        {
          "output_type": "execute_result",
          "data": {
            "text/html": [
              "<div>\n",
              "<style scoped>\n",
              "    .dataframe tbody tr th:only-of-type {\n",
              "        vertical-align: middle;\n",
              "    }\n",
              "\n",
              "    .dataframe tbody tr th {\n",
              "        vertical-align: top;\n",
              "    }\n",
              "\n",
              "    .dataframe thead th {\n",
              "        text-align: right;\n",
              "    }\n",
              "</style>\n",
              "<table border=\"1\" class=\"dataframe\">\n",
              "  <thead>\n",
              "    <tr style=\"text-align: right;\">\n",
              "      <th></th>\n",
              "      <th>Rank</th>\n",
              "      <th>Genre</th>\n",
              "      <th>Description</th>\n",
              "      <th>Director</th>\n",
              "      <th>Actors</th>\n",
              "      <th>Year</th>\n",
              "      <th>Runtime (Minutes)</th>\n",
              "      <th>Rating</th>\n",
              "      <th>Votes</th>\n",
              "      <th>Revenue (Millions)</th>\n",
              "      <th>Metascore</th>\n",
              "    </tr>\n",
              "    <tr>\n",
              "      <th>Title</th>\n",
              "      <th></th>\n",
              "      <th></th>\n",
              "      <th></th>\n",
              "      <th></th>\n",
              "      <th></th>\n",
              "      <th></th>\n",
              "      <th></th>\n",
              "      <th></th>\n",
              "      <th></th>\n",
              "      <th></th>\n",
              "      <th></th>\n",
              "    </tr>\n",
              "  </thead>\n",
              "  <tbody>\n",
              "    <tr>\n",
              "      <th>Secret in Their Eyes</th>\n",
              "      <td>996</td>\n",
              "      <td>Crime,Drama,Mystery</td>\n",
              "      <td>A tight-knit team of rising investigators, alo...</td>\n",
              "      <td>Billy Ray</td>\n",
              "      <td>Chiwetel Ejiofor, Nicole Kidman, Julia Roberts...</td>\n",
              "      <td>2015</td>\n",
              "      <td>111</td>\n",
              "      <td>6.2</td>\n",
              "      <td>27585</td>\n",
              "      <td>NaN</td>\n",
              "      <td>45.0</td>\n",
              "    </tr>\n",
              "    <tr>\n",
              "      <th>Hostel: Part II</th>\n",
              "      <td>997</td>\n",
              "      <td>Horror</td>\n",
              "      <td>Three American college students studying abroa...</td>\n",
              "      <td>Eli Roth</td>\n",
              "      <td>Lauren German, Heather Matarazzo, Bijou Philli...</td>\n",
              "      <td>2007</td>\n",
              "      <td>94</td>\n",
              "      <td>5.5</td>\n",
              "      <td>73152</td>\n",
              "      <td>17.54</td>\n",
              "      <td>46.0</td>\n",
              "    </tr>\n",
              "    <tr>\n",
              "      <th>Step Up 2: The Streets</th>\n",
              "      <td>998</td>\n",
              "      <td>Drama,Music,Romance</td>\n",
              "      <td>Romantic sparks occur between two dance studen...</td>\n",
              "      <td>Jon M. Chu</td>\n",
              "      <td>Robert Hoffman, Briana Evigan, Cassie Ventura,...</td>\n",
              "      <td>2008</td>\n",
              "      <td>98</td>\n",
              "      <td>6.2</td>\n",
              "      <td>70699</td>\n",
              "      <td>58.01</td>\n",
              "      <td>50.0</td>\n",
              "    </tr>\n",
              "    <tr>\n",
              "      <th>Search Party</th>\n",
              "      <td>999</td>\n",
              "      <td>Adventure,Comedy</td>\n",
              "      <td>A pair of friends embark on a mission to reuni...</td>\n",
              "      <td>Scot Armstrong</td>\n",
              "      <td>Adam Pally, T.J. Miller, Thomas Middleditch,Sh...</td>\n",
              "      <td>2014</td>\n",
              "      <td>93</td>\n",
              "      <td>5.6</td>\n",
              "      <td>4881</td>\n",
              "      <td>NaN</td>\n",
              "      <td>22.0</td>\n",
              "    </tr>\n",
              "    <tr>\n",
              "      <th>Nine Lives</th>\n",
              "      <td>1000</td>\n",
              "      <td>Comedy,Family,Fantasy</td>\n",
              "      <td>A stuffy businessman finds himself trapped ins...</td>\n",
              "      <td>Barry Sonnenfeld</td>\n",
              "      <td>Kevin Spacey, Jennifer Garner, Robbie Amell,Ch...</td>\n",
              "      <td>2016</td>\n",
              "      <td>87</td>\n",
              "      <td>5.3</td>\n",
              "      <td>12435</td>\n",
              "      <td>19.64</td>\n",
              "      <td>11.0</td>\n",
              "    </tr>\n",
              "  </tbody>\n",
              "</table>\n",
              "</div>"
            ],
            "text/plain": [
              "                        Rank  ... Metascore\n",
              "Title                         ...          \n",
              "Secret in Their Eyes     996  ...      45.0\n",
              "Hostel: Part II          997  ...      46.0\n",
              "Step Up 2: The Streets   998  ...      50.0\n",
              "Search Party             999  ...      22.0\n",
              "Nine Lives              1000  ...      11.0\n",
              "\n",
              "[5 rows x 11 columns]"
            ]
          },
          "metadata": {
            "tags": []
          },
          "execution_count": 7
        }
      ]
    },
    {
      "cell_type": "markdown",
      "metadata": {
        "id": "96owk2WsPEv7"
      },
      "source": [
        ""
      ]
    },
    {
      "cell_type": "code",
      "metadata": {
        "colab": {
          "base_uri": "https://localhost:8080/"
        },
        "id": "bTYg3_ggPF5-",
        "outputId": "38b7ced6-3c44-4ca7-b6ed-64a6a4c27717"
      },
      "source": [
        "movies_df.shape"
      ],
      "execution_count": 8,
      "outputs": [
        {
          "output_type": "execute_result",
          "data": {
            "text/plain": [
              "(1000, 11)"
            ]
          },
          "metadata": {
            "tags": []
          },
          "execution_count": 8
        }
      ]
    },
    {
      "cell_type": "code",
      "metadata": {
        "colab": {
          "base_uri": "https://localhost:8080/"
        },
        "id": "Wqn9OyolPQHR",
        "outputId": "559d0155-a1b7-4f62-a32f-29bef6647df1"
      },
      "source": [
        "movies_df.info()"
      ],
      "execution_count": 9,
      "outputs": [
        {
          "output_type": "stream",
          "text": [
            "<class 'pandas.core.frame.DataFrame'>\n",
            "Index: 1000 entries, Guardians of the Galaxy to Nine Lives\n",
            "Data columns (total 11 columns):\n",
            " #   Column              Non-Null Count  Dtype  \n",
            "---  ------              --------------  -----  \n",
            " 0   Rank                1000 non-null   int64  \n",
            " 1   Genre               1000 non-null   object \n",
            " 2   Description         1000 non-null   object \n",
            " 3   Director            1000 non-null   object \n",
            " 4   Actors              1000 non-null   object \n",
            " 5   Year                1000 non-null   int64  \n",
            " 6   Runtime (Minutes)   1000 non-null   int64  \n",
            " 7   Rating              1000 non-null   float64\n",
            " 8   Votes               1000 non-null   int64  \n",
            " 9   Revenue (Millions)  872 non-null    float64\n",
            " 10  Metascore           936 non-null    float64\n",
            "dtypes: float64(3), int64(4), object(4)\n",
            "memory usage: 93.8+ KB\n"
          ],
          "name": "stdout"
        }
      ]
    },
    {
      "cell_type": "code",
      "metadata": {
        "id": "D74cKmTtPSSc"
      },
      "source": [
        "movies_df = movies_df.drop_duplicates(keep = 'first')"
      ],
      "execution_count": 10,
      "outputs": []
    },
    {
      "cell_type": "code",
      "metadata": {
        "colab": {
          "base_uri": "https://localhost:8080/"
        },
        "id": "t7x7J_HEPdUW",
        "outputId": "41d4f716-0d97-464e-c663-4c30f02586a9"
      },
      "source": [
        "movies_df.columns"
      ],
      "execution_count": 11,
      "outputs": [
        {
          "output_type": "execute_result",
          "data": {
            "text/plain": [
              "Index(['Rank', 'Genre', 'Description', 'Director', 'Actors', 'Year',\n",
              "       'Runtime (Minutes)', 'Rating', 'Votes', 'Revenue (Millions)',\n",
              "       'Metascore'],\n",
              "      dtype='object')"
            ]
          },
          "metadata": {
            "tags": []
          },
          "execution_count": 11
        }
      ]
    },
    {
      "cell_type": "code",
      "metadata": {
        "colab": {
          "base_uri": "https://localhost:8080/"
        },
        "id": "PU2Xp2ZOPhTD",
        "outputId": "37acfdbe-2461-4a6b-cc91-fa894b125958"
      },
      "source": [
        "movies_df.rename(columns = {'Runtime (Minutes)' : 'Runtime', 'Revenue (Millions)' : 'Revenue_millions'}, inplace=True)\n",
        "movies_df.columns"
      ],
      "execution_count": 12,
      "outputs": [
        {
          "output_type": "execute_result",
          "data": {
            "text/plain": [
              "Index(['Rank', 'Genre', 'Description', 'Director', 'Actors', 'Year', 'Runtime',\n",
              "       'Rating', 'Votes', 'Revenue_millions', 'Metascore'],\n",
              "      dtype='object')"
            ]
          },
          "metadata": {
            "tags": []
          },
          "execution_count": 12
        }
      ]
    },
    {
      "cell_type": "code",
      "metadata": {
        "colab": {
          "base_uri": "https://localhost:8080/"
        },
        "id": "XC3Y2PZDPmqm",
        "outputId": "46bd18e6-1f1a-42ba-c49e-d8067925b9a4"
      },
      "source": [
        "movies_df.isnull().sum()"
      ],
      "execution_count": 13,
      "outputs": [
        {
          "output_type": "execute_result",
          "data": {
            "text/plain": [
              "Rank                  0\n",
              "Genre                 0\n",
              "Description           0\n",
              "Director              0\n",
              "Actors                0\n",
              "Year                  0\n",
              "Runtime               0\n",
              "Rating                0\n",
              "Votes                 0\n",
              "Revenue_millions    128\n",
              "Metascore            64\n",
              "dtype: int64"
            ]
          },
          "metadata": {
            "tags": []
          },
          "execution_count": 13
        }
      ]
    },
    {
      "cell_type": "code",
      "metadata": {
        "colab": {
          "base_uri": "https://localhost:8080/"
        },
        "id": "axDq9NU3PoV3",
        "outputId": "3e5dfaa7-7a1c-4214-8a72-cefcc2977257"
      },
      "source": [
        "movies_dfTmp = movies_df.dropna(axis=0) #To drop instances with null values\n",
        "movies_dfTmp.shape"
      ],
      "execution_count": 14,
      "outputs": [
        {
          "output_type": "execute_result",
          "data": {
            "text/plain": [
              "(838, 11)"
            ]
          },
          "metadata": {
            "tags": []
          },
          "execution_count": 14
        }
      ]
    },
    {
      "cell_type": "code",
      "metadata": {
        "colab": {
          "base_uri": "https://localhost:8080/"
        },
        "id": "v-6n7lOiPsG7",
        "outputId": "dd0a2aab-a33a-4617-969d-2caf707d3519"
      },
      "source": [
        "movies_dfTmp = movies_df.dropna(axis=1) #To drop columns containing null values\n",
        "movies_dfTmp.shape"
      ],
      "execution_count": 15,
      "outputs": [
        {
          "output_type": "execute_result",
          "data": {
            "text/plain": [
              "(1000, 9)"
            ]
          },
          "metadata": {
            "tags": []
          },
          "execution_count": 15
        }
      ]
    },
    {
      "cell_type": "code",
      "metadata": {
        "colab": {
          "base_uri": "https://localhost:8080/"
        },
        "id": "foVOu3H1Px4F",
        "outputId": "f83a3dea-bfc5-4949-e875-af5459bff82b"
      },
      "source": [
        "movies_df.shape"
      ],
      "execution_count": 16,
      "outputs": [
        {
          "output_type": "execute_result",
          "data": {
            "text/plain": [
              "(1000, 11)"
            ]
          },
          "metadata": {
            "tags": []
          },
          "execution_count": 16
        }
      ]
    },
    {
      "cell_type": "code",
      "metadata": {
        "colab": {
          "base_uri": "https://localhost:8080/"
        },
        "id": "Mws2mdN1P1Uo",
        "outputId": "f7ea9f4d-f476-41ee-93da-00751a767090"
      },
      "source": [
        "revenue = movies_df['Revenue_millions']\n",
        "revenue.head(5)"
      ],
      "execution_count": 17,
      "outputs": [
        {
          "output_type": "execute_result",
          "data": {
            "text/plain": [
              "Title\n",
              "Guardians of the Galaxy    333.13\n",
              "Prometheus                 126.46\n",
              "Split                      138.12\n",
              "Sing                       270.32\n",
              "Suicide Squad              325.02\n",
              "Name: Revenue_millions, dtype: float64"
            ]
          },
          "metadata": {
            "tags": []
          },
          "execution_count": 17
        }
      ]
    },
    {
      "cell_type": "code",
      "metadata": {
        "colab": {
          "base_uri": "https://localhost:8080/"
        },
        "id": "uL_7t1bTP5yB",
        "outputId": "b094342e-d20e-4cfd-ab3b-058ea7cb6352"
      },
      "source": [
        "meanRev = revenue.mean(0)\n",
        "revenue.fillna(meanRev, inplace=True)\n",
        "movies_df.isnull().sum()\n"
      ],
      "execution_count": 18,
      "outputs": [
        {
          "output_type": "execute_result",
          "data": {
            "text/plain": [
              "Rank                 0\n",
              "Genre                0\n",
              "Description          0\n",
              "Director             0\n",
              "Actors               0\n",
              "Year                 0\n",
              "Runtime              0\n",
              "Rating               0\n",
              "Votes                0\n",
              "Revenue_millions     0\n",
              "Metascore           64\n",
              "dtype: int64"
            ]
          },
          "metadata": {
            "tags": []
          },
          "execution_count": 18
        }
      ]
    },
    {
      "cell_type": "code",
      "metadata": {
        "colab": {
          "base_uri": "https://localhost:8080/",
          "height": 297
        },
        "id": "7Z59HKqxP-fU",
        "outputId": "a5d2a4a7-f19b-450b-94c3-49fc6627a320"
      },
      "source": [
        "movies_df.describe()"
      ],
      "execution_count": 19,
      "outputs": [
        {
          "output_type": "execute_result",
          "data": {
            "text/html": [
              "<div>\n",
              "<style scoped>\n",
              "    .dataframe tbody tr th:only-of-type {\n",
              "        vertical-align: middle;\n",
              "    }\n",
              "\n",
              "    .dataframe tbody tr th {\n",
              "        vertical-align: top;\n",
              "    }\n",
              "\n",
              "    .dataframe thead th {\n",
              "        text-align: right;\n",
              "    }\n",
              "</style>\n",
              "<table border=\"1\" class=\"dataframe\">\n",
              "  <thead>\n",
              "    <tr style=\"text-align: right;\">\n",
              "      <th></th>\n",
              "      <th>Rank</th>\n",
              "      <th>Year</th>\n",
              "      <th>Runtime</th>\n",
              "      <th>Rating</th>\n",
              "      <th>Votes</th>\n",
              "      <th>Revenue_millions</th>\n",
              "      <th>Metascore</th>\n",
              "    </tr>\n",
              "  </thead>\n",
              "  <tbody>\n",
              "    <tr>\n",
              "      <th>count</th>\n",
              "      <td>1000.000000</td>\n",
              "      <td>1000.000000</td>\n",
              "      <td>1000.000000</td>\n",
              "      <td>1000.000000</td>\n",
              "      <td>1.000000e+03</td>\n",
              "      <td>1000.000000</td>\n",
              "      <td>936.000000</td>\n",
              "    </tr>\n",
              "    <tr>\n",
              "      <th>mean</th>\n",
              "      <td>500.500000</td>\n",
              "      <td>2012.783000</td>\n",
              "      <td>113.172000</td>\n",
              "      <td>6.723200</td>\n",
              "      <td>1.698083e+05</td>\n",
              "      <td>82.956376</td>\n",
              "      <td>58.985043</td>\n",
              "    </tr>\n",
              "    <tr>\n",
              "      <th>std</th>\n",
              "      <td>288.819436</td>\n",
              "      <td>3.205962</td>\n",
              "      <td>18.810908</td>\n",
              "      <td>0.945429</td>\n",
              "      <td>1.887626e+05</td>\n",
              "      <td>96.412043</td>\n",
              "      <td>17.194757</td>\n",
              "    </tr>\n",
              "    <tr>\n",
              "      <th>min</th>\n",
              "      <td>1.000000</td>\n",
              "      <td>2006.000000</td>\n",
              "      <td>66.000000</td>\n",
              "      <td>1.900000</td>\n",
              "      <td>6.100000e+01</td>\n",
              "      <td>0.000000</td>\n",
              "      <td>11.000000</td>\n",
              "    </tr>\n",
              "    <tr>\n",
              "      <th>25%</th>\n",
              "      <td>250.750000</td>\n",
              "      <td>2010.000000</td>\n",
              "      <td>100.000000</td>\n",
              "      <td>6.200000</td>\n",
              "      <td>3.630900e+04</td>\n",
              "      <td>17.442500</td>\n",
              "      <td>47.000000</td>\n",
              "    </tr>\n",
              "    <tr>\n",
              "      <th>50%</th>\n",
              "      <td>500.500000</td>\n",
              "      <td>2014.000000</td>\n",
              "      <td>111.000000</td>\n",
              "      <td>6.800000</td>\n",
              "      <td>1.107990e+05</td>\n",
              "      <td>60.375000</td>\n",
              "      <td>59.500000</td>\n",
              "    </tr>\n",
              "    <tr>\n",
              "      <th>75%</th>\n",
              "      <td>750.250000</td>\n",
              "      <td>2016.000000</td>\n",
              "      <td>123.000000</td>\n",
              "      <td>7.400000</td>\n",
              "      <td>2.399098e+05</td>\n",
              "      <td>99.177500</td>\n",
              "      <td>72.000000</td>\n",
              "    </tr>\n",
              "    <tr>\n",
              "      <th>max</th>\n",
              "      <td>1000.000000</td>\n",
              "      <td>2016.000000</td>\n",
              "      <td>191.000000</td>\n",
              "      <td>9.000000</td>\n",
              "      <td>1.791916e+06</td>\n",
              "      <td>936.630000</td>\n",
              "      <td>100.000000</td>\n",
              "    </tr>\n",
              "  </tbody>\n",
              "</table>\n",
              "</div>"
            ],
            "text/plain": [
              "              Rank         Year  ...  Revenue_millions   Metascore\n",
              "count  1000.000000  1000.000000  ...       1000.000000  936.000000\n",
              "mean    500.500000  2012.783000  ...         82.956376   58.985043\n",
              "std     288.819436     3.205962  ...         96.412043   17.194757\n",
              "min       1.000000  2006.000000  ...          0.000000   11.000000\n",
              "25%     250.750000  2010.000000  ...         17.442500   47.000000\n",
              "50%     500.500000  2014.000000  ...         60.375000   59.500000\n",
              "75%     750.250000  2016.000000  ...         99.177500   72.000000\n",
              "max    1000.000000  2016.000000  ...        936.630000  100.000000\n",
              "\n",
              "[8 rows x 7 columns]"
            ]
          },
          "metadata": {
            "tags": []
          },
          "execution_count": 19
        }
      ]
    },
    {
      "cell_type": "code",
      "metadata": {
        "colab": {
          "base_uri": "https://localhost:8080/",
          "height": 281
        },
        "id": "HKeai2yuQEBu",
        "outputId": "c0e55beb-71c5-4241-8518-59967973244e"
      },
      "source": [
        "movies_df['Rating'].plot(kind='hist', title='Rating');"
      ],
      "execution_count": 20,
      "outputs": [
        {
          "output_type": "display_data",
          "data": {
            "image/png": "[encoded data removed]",
            "text/plain": [
              "<Figure size 432x288 with 1 Axes>"
            ]
          },
          "metadata": {
            "tags": [],
            "needs_background": "light"
          }
        }
      ]
    },
    {
      "cell_type": "code",
      "metadata": {
        "colab": {
          "base_uri": "https://localhost:8080/",
          "height": 265
        },
        "id": "MsGNTts0QG_h",
        "outputId": "2a6db2fd-3030-4b20-dcd6-f0ace0c28d16"
      },
      "source": [
        "movies_df['Rating'].plot(kind=\"box\");"
      ],
      "execution_count": 21,
      "outputs": [
        {
          "output_type": "display_data",
          "data": {
            "image/png": "[encoded data removed]",
            "text/plain": [
              "<Figure size 432x288 with 1 Axes>"
            ]
          },
          "metadata": {
            "tags": [],
            "needs_background": "light"
          }
        }
      ]
    },
    {
      "cell_type": "code",
      "metadata": {
        "colab": {
          "base_uri": "https://localhost:8080/",
          "height": 295
        },
        "id": "Zae7VTaaQTGl",
        "outputId": "75923688-e70c-467a-82bd-bb880947acfd"
      },
      "source": [
        "movies_df.plot(kind='scatter', x='Rating', y='Revenue_millions', title='Revenue (millions) vs Rating');\n"
      ],
      "execution_count": 22,
      "outputs": [
        {
          "output_type": "display_data",
          "data": {
            "image/png": "[encoded data removed]",
            "text/plain": [
              "<Figure size 432x288 with 1 Axes>"
            ]
          },
          "metadata": {
            "tags": [],
            "needs_background": "light"
          }
        }
      ]
    }
  ]
}